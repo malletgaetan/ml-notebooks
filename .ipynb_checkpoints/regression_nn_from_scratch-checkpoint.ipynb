{
 "cells": [
  {
   "cell_type": "code",
   "execution_count": 195,
   "metadata": {},
   "outputs": [],
   "source": [
    "import pandas as pd\n",
    "\n",
    "df = pd.concat(pd.read_excel(\"Folds5x2_pp.xlsx\", sheet_name=None), ignore_index=True)\n",
    "\n",
    "train_dataset = df.sample(frac=0.8, random_state=0)\n",
    "test_dataset = df.drop(train_dataset.index)\n",
    "\n",
    "def normalize(df):\n",
    "    for key in df.keys():\n",
    "        df[key] = df[key] / df[key].max()\n",
    "    return df.to_numpy()\n",
    "\n",
    "\n",
    "train_features = normalize(train_dataset.drop([\"PE\"], axis=1))\n",
    "test_features = normalize(test_dataset.drop([\"PE\"], axis=1))\n",
    "train_labels = train_dataset[\"PE\"].values.reshape(1, -1)[0]\n",
    "test_labels = test_dataset[\"PE\"].values.reshape(1, -1)[0]"
   ]
  },
  {
   "cell_type": "code",
   "execution_count": 196,
   "metadata": {},
   "outputs": [],
   "source": [
    "import numpy as np\n",
    "\n",
    "input_size = len(train_features[0])\n",
    "\n",
    "# DAMN NETWORK\n",
    "w1 = np.random.randint(2, 5, (input_size, 3))\n",
    "b1 = np.random.randint(2, 5, (3,))\n",
    "w2 = np.random.randint(2, 5, (3, 1))\n",
    "b2 = np.random.randint(2, 5, (1,))"
   ]
  },
  {
   "cell_type": "code",
   "execution_count": 197,
   "metadata": {},
   "outputs": [],
   "source": [
    "def sigmoid(z):\n",
    "    return 1.0/(1.0+np.exp(-z))\n",
    "\n",
    "def d_sigmoid(z):\n",
    "    return sigmoid(z)*(1-sigmoid(z))\n",
    "\n",
    "def forward(x):\n",
    "    x = x.dot(w1)\n",
    "    x = x + b1\n",
    "    x = sigmoid(x)\n",
    "    x = x.dot(w2)\n",
    "    x = x + b2\n",
    "    return x\n",
    "\n",
    "def sqrt_mean_squared_error(x, y):\n",
    "    return np.square(x - y).sum() / len(x)"
   ]
  },
  {
   "cell_type": "code",
   "execution_count": 198,
   "metadata": {},
   "outputs": [],
   "source": [
    "# TRAINING DATA\n",
    "# function to create a list containing mini-batches\n",
    "def create_mini_batches(X, y, batch_size):\n",
    "    mini_batches = []\n",
    "    data = np.hstack((X, y))\n",
    "    np.random.shuffle(data)\n",
    "    n_minibatches = data.shape[0] // batch_size\n",
    "    i = 0\n",
    "  \n",
    "    for i in range(n_minibatches + 1):\n",
    "        mini_batch = data[i * batch_size:(i + 1)*batch_size, :]\n",
    "        X_mini = mini_batch[:, :-1]\n",
    "        Y_mini = mini_batch[:, -1].reshape((-1, 1))\n",
    "        mini_batches.append((X_mini, Y_mini))\n",
    "    if data.shape[0] % batch_size != 0:\n",
    "        mini_batch = data[i * batch_size:data.shape[0]]\n",
    "        X_mini = mini_batch[:, :-1]\n",
    "        Y_mini = mini_batch[:, -1].reshape((-1, 1))\n",
    "        mini_batches.append((X_mini, Y_mini))\n",
    "    return mini_batches\n",
    "\n",
    "def forward(x):\n",
    "    # FORWARD PROPAGATION\n",
    "    # Z1(3,m) = ((W1(4,3).T(3,4) * X(4,m))(3,m) + b(3,m))\n",
    "    z1 = w1.T.dot(x.T).T + b1\n",
    "    # A1(3,m) = A(Z1(3,m))\n",
    "    a1 = sigmoid(z1)\n",
    "    # Z2(1,1) = ((W2(3,m).T(m,3) * A1(3,m))(2,1) + b(1,1))\n",
    "    z2 = (w2.T.dot(a1.T) + b2)\n",
    "    # A2(1,m) = A(Z2(1,m))\n",
    "    a2 = sigmoid(z2)\n",
    "    return a2\n",
    "\n",
    "# create batches that contains 50 (X,y) each\n",
    "mini_batches = create_mini_batches(train_features, train_labels.reshape(len(train_labels), 1), 50) "
   ]
  },
  {
   "cell_type": "code",
   "execution_count": 199,
   "metadata": {
    "scrolled": true
   },
   "outputs": [
    {
     "ename": "ValueError",
     "evalue": "shapes (3,1) and (50,1) not aligned: 1 (dim 1) != 50 (dim 0)",
     "output_type": "error",
     "traceback": [
      "\u001b[0;31m---------------------------------------------------------------------------\u001b[0m",
      "\u001b[0;31mValueError\u001b[0m                                Traceback (most recent call last)",
      "Input \u001b[0;32mIn [199]\u001b[0m, in \u001b[0;36m<cell line: 14>\u001b[0;34m()\u001b[0m\n\u001b[1;32m     32\u001b[0m dZ2dW2 \u001b[38;5;241m=\u001b[39m a1\n\u001b[1;32m     33\u001b[0m dA2dZ2 \u001b[38;5;241m=\u001b[39m d_sigmoid(z2)\n\u001b[0;32m---> 34\u001b[0m dJdW2 \u001b[38;5;241m=\u001b[39m \u001b[43mdA2dZ2\u001b[49m\u001b[38;5;241;43m.\u001b[39;49m\u001b[43mdot\u001b[49m\u001b[43m(\u001b[49m\u001b[43mdZ2dW2\u001b[49m\u001b[43m)\u001b[49m\u001b[38;5;241;43m.\u001b[39;49m\u001b[43mT\u001b[49m\u001b[38;5;241;43m.\u001b[39;49m\u001b[43mdot\u001b[49m\u001b[43m(\u001b[49m\u001b[43mdJdA2\u001b[49m\u001b[38;5;241;43m.\u001b[39;49m\u001b[43mT\u001b[49m\u001b[43m)\u001b[49m\n\u001b[1;32m     35\u001b[0m dZ2dB2 \u001b[38;5;241m=\u001b[39m \u001b[38;5;241m1\u001b[39m\n\u001b[1;32m     36\u001b[0m dJdB2 \u001b[38;5;241m=\u001b[39m dA2dZ2\u001b[38;5;241m.\u001b[39mT \u001b[38;5;241m*\u001b[39m dJdA2 \u001b[38;5;241m*\u001b[39m \u001b[38;5;241m1\u001b[39m\n",
      "\u001b[0;31mValueError\u001b[0m: shapes (3,1) and (50,1) not aligned: 1 (dim 1) != 50 (dim 0)"
     ]
    }
   ],
   "source": [
    "# THIS ENTIRE PROCESS COUNT AS AN EPOCH\n",
    "\n",
    "# LEARNING_RATE\n",
    "λ = 0.01\n",
    "\n",
    "# GRADIENT TO BE\n",
    "dJdB1 = [np.zeros(b.shape) for b in w1]\n",
    "dJdW1 = [np.zeros(w.shape) for w in w1]\n",
    "dJdB2 = [np.zeros(b.shape) for b in w2]\n",
    "dJdW2 = [np.zeros(w.shape) for w in w2]\n",
    "\n",
    "# mini_batch = zip(train_features, train_labels)\n",
    "for x, y in mini_batches[0:-2]:\n",
    "    # CALLED m IN SHAPES COMMENTS\n",
    "    batch_size = len(x)\n",
    "    \n",
    "    # FORWARD PROPAGATION\n",
    "    # Z1(3,m) = ((W1(4,3).T(3,4) * X(4,m))(3,m) + b(3,m))\n",
    "    z1 = w1.T.dot(x.T).T + b1\n",
    "    # A1(3,m) = A(Z1(3,m))\n",
    "    a1 = sigmoid(z1)\n",
    "    # Z2(1,1) = ((W2(3,m).T(m,3) * A1(3,m))(2,1) + b(1,1))\n",
    "    z2 = (w2.T.dot(a1.T) + b2)\n",
    "    # A2(1,m) = A(Z2(1,m))\n",
    "    a2 = sigmoid(z2)\n",
    "    \n",
    "    # BACKWARD PROPAGATION\n",
    "    # HERE WE DO MATHS, NO LUCK, HIGHLY SUGGEST https://www.youtube.com/watch?v=tIeHLnjs5U8\n",
    "    # dJdW2(3,m) = dZ2/dW2 * dA2/dZ2 * dJ/dA2 WITH J OUR COST FUNCTION (sqrt_mean_squared_error)\n",
    "    dJdA2 = (2 * (a2 - y.T))\n",
    "    dZ2dW2 = a1\n",
    "    dA2dZ2 = d_sigmoid(z2)\n",
    "    # TODO EDITED dJdA2, every calculus using it should be remade\n",
    "    dJdW2 = dA2dZ2.dot(dZ2dW2).T.dot(dJdA2.T)\n",
    "    dZ2dB2 = 1\n",
    "    dJdB2 = dA2dZ2.T * dJdA2 * 1\n",
    "    \n",
    "    # dJdW1(4,3) = dJdZ1 * dZ1dW1\n",
    "    # HERE THE HARD PART IS ABOUT dJ/A1, which have impact on cost function thru Z2 -> A2 -> J\n",
    "    # (1, m)\n",
    "    dA2dZ2 = d_sigmoid(z2)\n",
    "    # (1, m) = (1,m) * (m, 1)\n",
    "    dJdZ2 = dA2dZ2 * dJdA2.T\n",
    "    # (3, m) = (3, m) * (3, m)\n",
    "    dJdZ1 = (w2.dot(dJdZ2)).T * d_sigmoid(z1)\n",
    "    # (3, 4) = (3, m) * (m, 4)\n",
    "    dJdW1 = dJdZ1.T.dot(x).T / batch_size\n",
    "    dJdB1 = (dJdZ1 / batch_size).sum(axis=0)\n",
    "    \n",
    "    w2 = w2 + dJdW2\n",
    "    b2 = b2 + dJdB2\n",
    "    w1 = w1 + dJdW1\n",
    "    b1 = b1 + dJdB1\n",
    "    \n",
    "    print(w2)\n",
    "#     print(dJdW1)\n",
    "    \n",
    "\n",
    "# d = len(train_features)\n",
    "# w1 = [w - λ/d * dw for w, dw in zip(w1, dJdW1)]\n",
    "# w2 = [w - λ/d * dw for w, dw in zip(w2, dJdW2)]\n",
    "# b1 = [b - λ/d * dw for b, dw in zip(b1, dJdB1)]\n",
    "# b2 = [b - λ/d * dw for b, dw in zip(b2, dJdB2)]\n",
    "# print(w1)"
   ]
  },
  {
   "cell_type": "code",
   "execution_count": null,
   "metadata": {},
   "outputs": [],
   "source": [
    "w2"
   ]
  },
  {
   "cell_type": "code",
   "execution_count": null,
   "metadata": {},
   "outputs": [],
   "source": []
  }
 ],
 "metadata": {
  "interpreter": {
   "hash": "31f2aee4e71d21fbe5cf8b01ff0e069b9275f58929596ceb00d14d90e3e16cd6"
  },
  "kernelspec": {
   "display_name": "Python 3 (ipykernel)",
   "language": "python",
   "name": "python3"
  },
  "language_info": {
   "codemirror_mode": {
    "name": "ipython",
    "version": 3
   },
   "file_extension": ".py",
   "mimetype": "text/x-python",
   "name": "python",
   "nbconvert_exporter": "python",
   "pygments_lexer": "ipython3",
   "version": "3.9.7"
  }
 },
 "nbformat": 4,
 "nbformat_minor": 2
}
