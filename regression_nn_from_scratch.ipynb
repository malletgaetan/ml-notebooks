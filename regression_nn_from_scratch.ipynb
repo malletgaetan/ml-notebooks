{
 "cells": [
  {
   "cell_type": "code",
   "execution_count": null,
   "metadata": {},
   "outputs": [],
   "source": [
    "import pandas as pd\n",
    "\n",
    "df = pd.concat(pd.read_excel(\"Folds5x2_pp.xlsx\", sheet_name=None), ignore_index=True)\n",
    "\n",
    "train_dataset = df.sample(frac=0.8, random_state=0)\n",
    "test_dataset = df.drop(train_dataset.index)\n",
    "\n",
    "def normalize(df):\n",
    "    for key in df.keys():\n",
    "        df[key] = df[key] / df[key].max()\n",
    "    return df.to_numpy()\n",
    "\n",
    "\n",
    "train_features = normalize(train_dataset.drop([\"PE\"], axis=1))\n",
    "test_features = normalize(test_dataset.drop([\"PE\"], axis=1))\n",
    "train_labels = train_dataset[\"PE\"].values.reshape(1, -1)[0]\n",
    "test_labels = test_dataset[\"PE\"].values.reshape(1, -1)[0]"
   ]
  },
  {
   "cell_type": "code",
   "execution_count": 54,
   "metadata": {},
   "outputs": [
    {
     "data": {
      "text/plain": [
       "array([0.28281809])"
      ]
     },
     "execution_count": 54,
     "metadata": {},
     "output_type": "execute_result"
    }
   ],
   "source": [
    "import numpy as np\n",
    "\n",
    "input_size = len(train_features[0])\n",
    "\n",
    "# DAMN NETWORK\n",
    "w1 = np.random.rand(input_size, 3)\n",
    "b1 = np.random.rand(3,)\n",
    "w2 = np.random.rand(3, 1)\n",
    "b2 = np.random.rand(1,)"
   ]
  },
  {
   "cell_type": "code",
   "execution_count": 55,
   "metadata": {},
   "outputs": [],
   "source": [
    "def sigmoid(z):\n",
    "    return 1.0/(1.0+np.exp(-z))\n",
    "\n",
    "def d_sigmoid(z):\n",
    "    return sigmoid(z)*(1-sigmoid(z))\n",
    "\n",
    "def forward(x):\n",
    "    x = x.dot(w1)\n",
    "    x = x + b1\n",
    "    x = sigmoid(x)\n",
    "    x = x.dot(w2)\n",
    "    x = x + b2\n",
    "    return x\n",
    "\n",
    "def sqrt_mean_squared_error(x, y):\n",
    "    return np.square(x - y).sum() / len(x)"
   ]
  },
  {
   "cell_type": "code",
   "execution_count": null,
   "metadata": {},
   "outputs": [],
   "source": [
    "# TRAINING DATA\n",
    "mini_batch = zip(train_features, train_labels)"
   ]
  },
  {
   "cell_type": "code",
   "execution_count": null,
   "metadata": {},
   "outputs": [],
   "source": [
    "# THIS ENTIRE PROCESS COUNT AS AN EPOCH\n",
    "\n",
    "# LEARNING_RATE\n",
    "λ = 0.01\n",
    "\n",
    "# GRADIENT TO BE\n",
    "dJdB1 = [np.zeros(b.shape) for b in w1]\n",
    "dJdW1 = [np.zeros(w.shape) for w in w1]\n",
    "dJdB2 = [np.zeros(b.shape) for b in w2]\n",
    "dJdW2 = [np.zeros(w.shape) for w in w2]\n",
    "\n",
    "\n",
    "for x, y in mini_batch:\n",
    "    # FORWARD PROPAGATION\n",
    "    z1 = w1.dot(x) + b1\n",
    "    a1 = sigmoid(z1)\n",
    "    z2 = w2.dot(a1) + b2\n",
    "    a2 = sigmoid(z1)\n",
    "\n",
    "    # BACK PROPAGATION\n",
    "    # LAYER CONNECTED TO OUTPUT (LAST LAYER)\n",
    "    d = sqrt_mean_squared_error(a2, y) * d_sigmoid(z2)\n",
    "    batch_dJdB2 = d\n",
    "    batch_dJdW2 = a2.dot(d.T)\n",
    "\n",
    "    # LAYER CONNECTED TO INPUT (FIRST LAYER)\n",
    "    d = d_sigmoid(z1) * (w2.dot(d))\n",
    "    batch_dJdB1 = d\n",
    "    batch_dJdW1 = x.dot(d.T)\n",
    "\n",
    "\n",
    "    dJdB2 = dJdB2 + batch_dJdB2\n",
    "    dJdW2 = dJdW2 + batch_dJdW2\n",
    "\n",
    "    dJdB1 = dJdB1 + batch_dJdB1\n",
    "    dJdW1 = dJdW1 + batch_dJdW1\n",
    "\n",
    "\n",
    "\n",
    "d = len(mini_batch)\n",
    "w1 = [w - λ/d * dw for w, dw in zip(w1, dJdW1)]\n",
    "w2 = [w - λ/d * dw for w, dw in zip(w2, dJdW2)]\n",
    "b1 = [b - λ/d * dw for b, dw in zip(b1, dJdB1)]\n",
    "b2 = [b - λ/d * dw for b, dw in zip(b2, dJdB2)]"
   ]
  },
  {
   "cell_type": "code",
   "execution_count": null,
   "metadata": {},
   "outputs": [],
   "source": []
  }
 ],
 "metadata": {
  "interpreter": {
   "hash": "31f2aee4e71d21fbe5cf8b01ff0e069b9275f58929596ceb00d14d90e3e16cd6"
  },
  "kernelspec": {
   "display_name": "Python 3.9.7 64-bit",
   "language": "python",
   "name": "python3"
  },
  "language_info": {
   "codemirror_mode": {
    "name": "ipython",
    "version": 3
   },
   "file_extension": ".py",
   "mimetype": "text/x-python",
   "name": "python",
   "nbconvert_exporter": "python",
   "pygments_lexer": "ipython3",
   "version": "3.9.7"
  },
  "orig_nbformat": 4
 },
 "nbformat": 4,
 "nbformat_minor": 2
}
