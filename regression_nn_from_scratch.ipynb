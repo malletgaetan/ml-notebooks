{
 "cells": [
  {
   "cell_type": "code",
   "execution_count": null,
   "metadata": {},
   "outputs": [],
   "source": [
    "import pandas as pd\n",
    "\n",
    "df = pd.concat(pd.read_excel(\"Folds5x2_pp.xlsx\", sheet_name=None), ignore_index=True)\n",
    "\n",
    "train_dataset = df.sample(frac=0.8, random_state=0)\n",
    "test_dataset = df.drop(train_dataset.index)\n",
    "\n",
    "def normalize(df):\n",
    "    for key in df.keys():\n",
    "        df[key] = df[key] / df[key].max()\n",
    "    return df.to_numpy()\n",
    "\n",
    "\n",
    "train_features = normalize(train_dataset.drop([\"PE\"], axis=1))\n",
    "test_features = normalize(test_dataset.drop([\"PE\"], axis=1))\n",
    "train_labels = train_dataset[\"PE\"].values.reshape(1, -1)[0]\n",
    "test_labels = test_dataset[\"PE\"].values.reshape(1, -1)[0]"
   ]
  },
  {
   "cell_type": "code",
   "execution_count": 54,
   "metadata": {},
   "outputs": [
    {
     "data": {
      "text/plain": [
       "array([0.28281809])"
      ]
     },
     "execution_count": 54,
     "metadata": {},
     "output_type": "execute_result"
    }
   ],
   "source": [
    "import numpy as np\n",
    "\n",
    "input_size = len(train_features[0])\n",
    "\n",
    "# DAMN NETWORK\n",
    "w1 = np.random.rand(input_size, 3)\n",
    "b1 = np.random.rand(3,)\n",
    "w2 = np.random.rand(3, 1)\n",
    "b2 = np.random.rand(1,)"
   ]
  },
  {
   "cell_type": "code",
   "execution_count": 55,
   "metadata": {},
   "outputs": [],
   "source": [
    "def relu(x):\n",
    "    return np.maximum(x, 0)\n",
    "\n",
    "def drelu(x):\n",
    "    return 0 if x <= 0 else 1\n",
    "\n",
    "def forward(x):\n",
    "    x = x.dot(w1)\n",
    "    x = x + b1\n",
    "    x = relu(x)\n",
    "    x = x.dot(w2)\n",
    "    x = x + b2\n",
    "    return x"
   ]
  },
  {
   "cell_type": "code",
   "execution_count": 61,
   "metadata": {},
   "outputs": [
    {
     "data": {
      "text/plain": [
       "array([3.67855079])"
      ]
     },
     "execution_count": 61,
     "metadata": {},
     "output_type": "execute_result"
    }
   ],
   "source": [
    "# TEST FORWARD PROPAGATION\n",
    "test_input = train_features[0]\n",
    "forward(test_input)"
   ]
  },
  {
   "cell_type": "code",
   "execution_count": 64,
   "metadata": {},
   "outputs": [],
   "source": [
    "# HARD PART :O\n",
    "def backward(x, y):\n",
    "    dBL1 = [np.zeros(b.shape) for b in b1] # DERIVATIVE OF EVERY BIAS IN LAYER 1\n",
    "    dBL2 = [np.zeros(b.shape) for b in b2] # DERIVATIVE OF EVERY BIAS IN LAYER 2\n",
    "    dwL1 = [np.zeros(b.shape) for b in w1] # DERIVATIVES OF EVERY WEIGHT AND BIAS IN LAYER 1\n",
    "    dwL2 = [np.zeros(b.shape) for b in w2] # DERIVATES OF EVERY WEIGHT AND BIAS IN LAYER 2\n",
    "\n",
    "def sqrt_mean_squared_error(x, y):\n",
    "    return np.square(x - y).sum() / len(x)\n",
    "\n",
    "def train(x, y):\n",
    "    # NEURAL NETWORK OUTPUT | PREDICTION FOR X INPUT\n",
    "    nn_output = forward(x)\n",
    "\n",
    "    # COST\n",
    "    cost = sqrt_mean_squared_error(nn_output, y)\n",
    "\n",
    "    # BACK PROPAGATION\n",
    "    backward(x, y)\n",
    "\n",
    "    return cost\n"
   ]
  }
 ],
 "metadata": {
  "interpreter": {
   "hash": "31f2aee4e71d21fbe5cf8b01ff0e069b9275f58929596ceb00d14d90e3e16cd6"
  },
  "kernelspec": {
   "display_name": "Python 3.9.7 64-bit",
   "language": "python",
   "name": "python3"
  },
  "language_info": {
   "codemirror_mode": {
    "name": "ipython",
    "version": 3
   },
   "file_extension": ".py",
   "mimetype": "text/x-python",
   "name": "python",
   "nbconvert_exporter": "python",
   "pygments_lexer": "ipython3",
   "version": "3.9.7"
  },
  "orig_nbformat": 4
 },
 "nbformat": 4,
 "nbformat_minor": 2
}
