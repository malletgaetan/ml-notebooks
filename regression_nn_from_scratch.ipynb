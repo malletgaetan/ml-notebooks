{
 "cells": [
  {
   "cell_type": "code",
   "execution_count": 3,
   "metadata": {},
   "outputs": [],
   "source": [
    "import pandas as pd\n",
    "\n",
    "df = pd.concat(pd.read_excel(\"Folds5x2_pp.xlsx\", sheet_name=None), ignore_index=True)\n",
    "\n",
    "train_dataset = df.sample(frac=0.8, random_state=0)\n",
    "test_dataset = df.drop(train_dataset.index)\n",
    "\n",
    "def normalize(df):\n",
    "    for key in df.keys():\n",
    "        df[key] = df[key] / df[key].max()\n",
    "    return df.to_numpy()\n",
    "\n",
    "\n",
    "train_features = normalize(train_dataset.drop([\"PE\"], axis=1))\n",
    "test_features = normalize(test_dataset.drop([\"PE\"], axis=1))\n",
    "train_labels = train_dataset[\"PE\"].values.reshape(1, -1)[0]\n",
    "test_labels = test_dataset[\"PE\"].values.reshape(1, -1)[0]"
   ]
  },
  {
   "cell_type": "code",
   "execution_count": 4,
   "metadata": {},
   "outputs": [],
   "source": [
    "import numpy as np\n",
    "\n",
    "input_size = len(train_features[0])\n",
    "\n",
    "# DAMN NETWORK\n",
    "w1 = np.random.rand(input_size, 3)\n",
    "b1 = np.random.rand(3,)\n",
    "w2 = np.random.rand(3, 1)\n",
    "b2 = np.random.rand(1,)"
   ]
  },
  {
   "cell_type": "code",
   "execution_count": 5,
   "metadata": {},
   "outputs": [],
   "source": [
    "def sigmoid(z):\n",
    "    return 1.0/(1.0+np.exp(-z))\n",
    "\n",
    "def d_sigmoid(z):\n",
    "    return sigmoid(z)*(1-sigmoid(z))\n",
    "\n",
    "def forward(x):\n",
    "    x = x.dot(w1)\n",
    "    x = x + b1\n",
    "    x = sigmoid(x)\n",
    "    x = x.dot(w2)\n",
    "    x = x + b2\n",
    "    return x\n",
    "\n",
    "def sqrt_mean_squared_error(x, y):\n",
    "    return np.square(x - y).sum() / len(x)"
   ]
  },
  {
   "cell_type": "code",
   "execution_count": 23,
   "metadata": {},
   "outputs": [
    {
     "name": "stdout",
     "output_type": "stream",
     "text": [
      "(4, 3)\n",
      "[0.88932318 0.85377695 0.83086699]\n"
     ]
    }
   ],
   "source": [
    "# TRAINING DATA\n",
    "mini_batch = zip(train_features, train_labels)\n",
    "print(w1.shape)\n",
    "print(sigmoid(w1.T.dot(train_features[0]) + b1[0]))"
   ]
  },
  {
   "cell_type": "code",
   "execution_count": 25,
   "metadata": {},
   "outputs": [
    {
     "ename": "TypeError",
     "evalue": "object of type 'zip' has no len()",
     "output_type": "error",
     "traceback": [
      "\u001b[0;31m---------------------------------------------------------------------------\u001b[0m",
      "\u001b[0;31mTypeError\u001b[0m                                 Traceback (most recent call last)",
      "Input \u001b[0;32mIn [25]\u001b[0m, in \u001b[0;36m<cell line: 32>\u001b[0;34m()\u001b[0m\n\u001b[1;32m     22\u001b[0m     a2 \u001b[38;5;241m=\u001b[39m sigmoid(z1)\n\u001b[1;32m     24\u001b[0m \u001b[38;5;66;03m#     dJdB2 = dJdB2 + batch_dJdB2\u001b[39;00m\n\u001b[1;32m     25\u001b[0m \u001b[38;5;66;03m#     dJdW2 = dJdW2 + batch_dJdW2\u001b[39;00m\n\u001b[1;32m     26\u001b[0m \n\u001b[1;32m     27\u001b[0m \u001b[38;5;66;03m#     dJdB1 = dJdB1 + batch_dJdB1\u001b[39;00m\n\u001b[1;32m     28\u001b[0m \u001b[38;5;66;03m#     dJdW1 = dJdW1 + batch_dJdW1\u001b[39;00m\n\u001b[0;32m---> 32\u001b[0m d \u001b[38;5;241m=\u001b[39m \u001b[38;5;28;43mlen\u001b[39;49m\u001b[43m(\u001b[49m\u001b[43mmini_batch\u001b[49m\u001b[43m)\u001b[49m\n\u001b[1;32m     33\u001b[0m w1 \u001b[38;5;241m=\u001b[39m [w \u001b[38;5;241m-\u001b[39m λ\u001b[38;5;241m/\u001b[39md \u001b[38;5;241m*\u001b[39m dw \u001b[38;5;28;01mfor\u001b[39;00m w, dw \u001b[38;5;129;01min\u001b[39;00m \u001b[38;5;28mzip\u001b[39m(w1, dJdW1)]\n\u001b[1;32m     34\u001b[0m w2 \u001b[38;5;241m=\u001b[39m [w \u001b[38;5;241m-\u001b[39m λ\u001b[38;5;241m/\u001b[39md \u001b[38;5;241m*\u001b[39m dw \u001b[38;5;28;01mfor\u001b[39;00m w, dw \u001b[38;5;129;01min\u001b[39;00m \u001b[38;5;28mzip\u001b[39m(w2, dJdW2)]\n",
      "\u001b[0;31mTypeError\u001b[0m: object of type 'zip' has no len()"
     ]
    }
   ],
   "source": [
    "# THIS ENTIRE PROCESS COUNT AS AN EPOCH\n",
    "\n",
    "# LEARNING_RATE\n",
    "λ = 0.01\n",
    "\n",
    "# GRADIENT TO BE\n",
    "dJdB1 = [np.zeros(b.shape) for b in w1]\n",
    "dJdW1 = [np.zeros(w.shape) for w in w1]\n",
    "dJdB2 = [np.zeros(b.shape) for b in w2]\n",
    "dJdW2 = [np.zeros(w.shape) for w in w2]\n",
    "\n",
    "\n",
    "for x, y in mini_batch:\n",
    "    # FORWARD PROPAGATION\n",
    "    # Z1(3,1) = ((W1(4,3).T(3,4) * X(4,1))(3,1) + b(3,1))\n",
    "    z1 = w1.T.dot(x) + b1\n",
    "    # A1(3,1) = A(Z1(3,1))\n",
    "    a1 = sigmoid(z1)\n",
    "    # Z2(2,1) = ((W2(3,2).T(2,3) * X(3,1))(2,1) + b(2,1))\n",
    "    z2 = w2.T.dot(a1) + b2\n",
    "    # A2(2,1) = A(Z2(2,1))\n",
    "    a2 = sigmoid(z1)\n",
    "\n",
    "#     dJdB2 = dJdB2 + batch_dJdB2\n",
    "#     dJdW2 = dJdW2 + batch_dJdW2\n",
    "\n",
    "#     dJdB1 = dJdB1 + batch_dJdB1\n",
    "#     dJdW1 = dJdW1 + batch_dJdW1\n",
    "\n",
    "\n",
    "\n",
    "d = len(mini_batch)\n",
    "w1 = [w - λ/d * dw for w, dw in zip(w1, dJdW1)]\n",
    "w2 = [w - λ/d * dw for w, dw in zip(w2, dJdW2)]\n",
    "b1 = [b - λ/d * dw for b, dw in zip(b1, dJdB1)]\n",
    "b2 = [b - λ/d * dw for b, dw in zip(b2, dJdB2)]"
   ]
  },
  {
   "cell_type": "code",
   "execution_count": null,
   "metadata": {},
   "outputs": [],
   "source": []
  }
 ],
 "metadata": {
  "interpreter": {
   "hash": "31f2aee4e71d21fbe5cf8b01ff0e069b9275f58929596ceb00d14d90e3e16cd6"
  },
  "kernelspec": {
   "display_name": "Python 3 (ipykernel)",
   "language": "python",
   "name": "python3"
  },
  "language_info": {
   "codemirror_mode": {
    "name": "ipython",
    "version": 3
   },
   "file_extension": ".py",
   "mimetype": "text/x-python",
   "name": "python",
   "nbconvert_exporter": "python",
   "pygments_lexer": "ipython3",
   "version": "3.9.7"
  }
 },
 "nbformat": 4,
 "nbformat_minor": 2
}
