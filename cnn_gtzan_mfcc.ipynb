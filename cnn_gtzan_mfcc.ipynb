{
 "cells": [
  {
   "cell_type": "code",
   "execution_count": 8,
   "id": "37582af1",
   "metadata": {},
   "outputs": [],
   "source": [
    "import matplotlib.pyplot as plt\n",
    "from matplotlib.pyplot import imshow\n",
    "import PIL\n",
    "import tensorflow as tf\n",
    "import numpy as np\n",
    "from tensorflow.keras import layers\n",
    "from tensorflow.keras.models import Sequential\n",
    "import os\n",
    "import random\n",
    "import librosa"
   ]
  },
  {
   "cell_type": "code",
   "execution_count": 9,
   "id": "e707cc0b",
   "metadata": {},
   "outputs": [
    {
     "name": "stdout",
     "output_type": "stream",
     "text": [
      "Extracted features audio track 799 of 799.\n",
      "Extracted features audio track 100 of 100.\n",
      "Extracted features audio track 100 of 100.\n"
     ]
    }
   ],
   "source": [
    "DATASET_PATH = \"/home/gmallet/datasets/gtzan\"\n",
    "ROI_PATH = DATASET_PATH + \"/genres_original/\"\n",
    "TIME_SERIES_LENGTH = 128\n",
    "HOP_LENGTH = 512\n",
    "CATEGORIES = os.listdir(ROI_PATH)\n",
    "\n",
    "sr = 22050\n",
    "SONG_DURATION = 29\n",
    "TOTAL_SAMPLES = SONG_DURATION * sr\n",
    "NB_SLICES = 10\n",
    "SAMPLES_PER_SLICE = int(TOTAL_SAMPLES / NB_SLICES)\n",
    "\n",
    "def get_files(root_path, extension):\n",
    "    files_paths = []\n",
    "    for root, _, files in os.walk(root_path, topdown=True):\n",
    "        files_paths += [os.path.join(root, file) for file in files if file.endswith(extension)]\n",
    "    return files_paths\n",
    "\n",
    "\n",
    "def extract_audio_features(files_paths):\n",
    "    labels = []\n",
    "    features = []\n",
    "    for i, file_path in enumerate(files_paths):\n",
    "        song, sr = librosa.load(file_path, duration=SONG_DURATION)\n",
    "        genre = file_path.split(\"/\")[-2]\n",
    "        index = CATEGORIES.index(genre)\n",
    "        for s in range(NB_SLICES):\n",
    "            start_sample = SAMPLES_PER_SLICE * s\n",
    "            end_sample = start_sample + SAMPLES_PER_SLICE\n",
    "            mfcc = librosa.feature.mfcc(y=song[start_sample:end_sample], sr=sr, n_mfcc=13)\n",
    "            mfcc = mfcc.T\n",
    "            labels.append(index)\n",
    "            features.append(mfcc.tolist())\n",
    "        print(\n",
    "            \"\\rExtracted features audio track %i of %i.\"\n",
    "            % (i+1, len(files_paths)), end=''\n",
    "        )\n",
    "    print()\n",
    "    return (np.array(features), np.array(labels))\n",
    "\n",
    "def load_data(files_path):\n",
    "    files_paths = get_files(files_path, \"wav\")\n",
    "    random.shuffle(files_paths)\n",
    "    a, b = int(len(files_paths) * 0.8), int(len(files_paths) * 0.9)\n",
    "    train_fp, val_fp, test_fp = files_paths[:a], files_paths[a:b], files_paths[b:]\n",
    "\n",
    "    # SHOULD SAVE THIS TO JSON OR SMTHG\n",
    "    return {\n",
    "        \"train\": extract_audio_features(train_fp),\n",
    "        \"validate\": extract_audio_features(val_fp),\n",
    "        \"test\": extract_audio_features(test_fp),\n",
    "    }\n",
    "\n",
    "dataset = load_data(ROI_PATH)"
   ]
  },
  {
   "cell_type": "code",
   "execution_count": 10,
   "id": "5469958c",
   "metadata": {},
   "outputs": [],
   "source": [
    "def get_model(input_shape):\n",
    "    model = tf.keras.models.Sequential([\n",
    "        tf.keras.layers.Conv2D(32, (3,3), activation='relu', input_shape=input_shape),\n",
    "        tf.keras.layers.MaxPooling2D((3,3), strides=(2,2), padding='same'),\n",
    "        tf.keras.layers.BatchNormalization(),\n",
    "\n",
    "        tf.keras.layers.Conv2D(32, (3,3), activation='relu'),\n",
    "        tf.keras.layers.MaxPooling2D((3,3), strides=(2,2), padding='same'),\n",
    "        tf.keras.layers.BatchNormalization(),\n",
    "\n",
    "        tf.keras.layers.Conv2D(32, (2,2), activation='relu'),\n",
    "        tf.keras.layers.MaxPooling2D((3,3), strides=(2,2), padding='same'),\n",
    "        tf.keras.layers.BatchNormalization(),\n",
    "        tf.keras.layers.Dropout(0.3),\n",
    "\n",
    "        tf.keras.layers.Flatten(),\n",
    "        tf.keras.layers.Dense(64, activation='relu'), \n",
    "        tf.keras.layers.Dense(10, activation='softmax')\n",
    "    ])\n",
    "    return model\n",
    "\n",
    "def plot_performance(hist):\n",
    "    \n",
    "    acc = hist.history['acc']\n",
    "    val_acc = hist.history['val_acc']\n",
    "    loss = hist.history['loss']\n",
    "    val_loss = hist.history['val_loss']\n",
    "\n",
    "    epochs = range(len(acc))\n",
    "\n",
    "    plt.plot(epochs, acc, 'r', label='Training accuracy')\n",
    "    plt.plot(epochs, val_acc, 'b', label='Validation accuracy')\n",
    "    plt.title('Training and validation accuracy')\n",
    "    plt.legend()\n",
    "    plt.figure()\n",
    "\n",
    "    plt.plot(epochs, loss, 'r', label='Training Loss')\n",
    "    plt.plot(epochs, val_loss, 'b', label='Validation Loss')\n",
    "    plt.title('Training and validation loss')\n",
    "    plt.legend()\n",
    "\n",
    "    plt.show()"
   ]
  },
  {
   "cell_type": "code",
   "execution_count": 11,
   "id": "ea531b2c",
   "metadata": {},
   "outputs": [
    {
     "name": "stdout",
     "output_type": "stream",
     "text": [
      "(125, 13, 1)\n",
      "Model: \"sequential_2\"\n",
      "_________________________________________________________________\n",
      " Layer (type)                Output Shape              Param #   \n",
      "=================================================================\n",
      " conv2d_6 (Conv2D)           (None, 123, 11, 32)       320       \n",
      "                                                                 \n",
      " max_pooling2d_6 (MaxPooling  (None, 62, 6, 32)        0         \n",
      " 2D)                                                             \n",
      "                                                                 \n",
      " batch_normalization_6 (Batc  (None, 62, 6, 32)        128       \n",
      " hNormalization)                                                 \n",
      "                                                                 \n",
      " conv2d_7 (Conv2D)           (None, 60, 4, 32)         9248      \n",
      "                                                                 \n",
      " max_pooling2d_7 (MaxPooling  (None, 30, 2, 32)        0         \n",
      " 2D)                                                             \n",
      "                                                                 \n",
      " batch_normalization_7 (Batc  (None, 30, 2, 32)        128       \n",
      " hNormalization)                                                 \n",
      "                                                                 \n",
      " conv2d_8 (Conv2D)           (None, 29, 1, 32)         4128      \n",
      "                                                                 \n",
      " max_pooling2d_8 (MaxPooling  (None, 15, 1, 32)        0         \n",
      " 2D)                                                             \n",
      "                                                                 \n",
      " batch_normalization_8 (Batc  (None, 15, 1, 32)        128       \n",
      " hNormalization)                                                 \n",
      "                                                                 \n",
      " dropout_2 (Dropout)         (None, 15, 1, 32)         0         \n",
      "                                                                 \n",
      " flatten_2 (Flatten)         (None, 480)               0         \n",
      "                                                                 \n",
      " dense_4 (Dense)             (None, 64)                30784     \n",
      "                                                                 \n",
      " dense_5 (Dense)             (None, 10)                650       \n",
      "                                                                 \n",
      "=================================================================\n",
      "Total params: 45,514\n",
      "Trainable params: 45,322\n",
      "Non-trainable params: 192\n",
      "_________________________________________________________________\n",
      "Epoch 1/30\n",
      "200/200 [==============================] - 5s 23ms/step - loss: 1.5685 - acc: 0.4529 - val_loss: 1.8861 - val_acc: 0.3420\n",
      "Epoch 2/30\n",
      "200/200 [==============================] - 4s 22ms/step - loss: 1.0662 - acc: 0.6163 - val_loss: 1.3558 - val_acc: 0.5620\n",
      "Epoch 3/30\n",
      "200/200 [==============================] - 4s 22ms/step - loss: 0.9022 - acc: 0.6751 - val_loss: 1.3076 - val_acc: 0.5680\n",
      "Epoch 4/30\n",
      "200/200 [==============================] - 4s 22ms/step - loss: 0.7849 - acc: 0.7156 - val_loss: 1.1931 - val_acc: 0.6210\n",
      "Epoch 5/30\n",
      "200/200 [==============================] - 4s 22ms/step - loss: 0.6959 - acc: 0.7581 - val_loss: 1.2337 - val_acc: 0.6250\n",
      "Epoch 6/30\n",
      "200/200 [==============================] - 4s 22ms/step - loss: 0.6507 - acc: 0.7682 - val_loss: 1.1350 - val_acc: 0.6680\n",
      "Epoch 7/30\n",
      "200/200 [==============================] - 4s 22ms/step - loss: 0.5935 - acc: 0.7889 - val_loss: 1.1015 - val_acc: 0.6660\n",
      "Epoch 8/30\n",
      "200/200 [==============================] - 4s 22ms/step - loss: 0.5413 - acc: 0.8081 - val_loss: 1.2923 - val_acc: 0.6400\n",
      "Epoch 9/30\n",
      "200/200 [==============================] - 4s 22ms/step - loss: 0.5048 - acc: 0.8227 - val_loss: 1.1404 - val_acc: 0.6980\n",
      "Epoch 10/30\n",
      "200/200 [==============================] - 4s 22ms/step - loss: 0.4734 - acc: 0.8337 - val_loss: 1.1200 - val_acc: 0.6840\n",
      "Epoch 11/30\n",
      "200/200 [==============================] - 4s 22ms/step - loss: 0.4543 - acc: 0.8385 - val_loss: 1.1409 - val_acc: 0.6740\n",
      "Epoch 12/30\n",
      "200/200 [==============================] - 4s 22ms/step - loss: 0.4197 - acc: 0.8487 - val_loss: 1.2103 - val_acc: 0.6530\n",
      "Epoch 13/30\n",
      "200/200 [==============================] - 4s 22ms/step - loss: 0.4038 - acc: 0.8547 - val_loss: 1.3382 - val_acc: 0.6500\n",
      "Epoch 14/30\n",
      "200/200 [==============================] - 4s 22ms/step - loss: 0.3777 - acc: 0.8658 - val_loss: 1.1317 - val_acc: 0.6650\n",
      "Epoch 15/30\n",
      "200/200 [==============================] - 4s 22ms/step - loss: 0.3682 - acc: 0.8683 - val_loss: 1.1834 - val_acc: 0.6750\n",
      "Epoch 16/30\n",
      "200/200 [==============================] - 4s 22ms/step - loss: 0.3481 - acc: 0.8773 - val_loss: 1.5155 - val_acc: 0.6560\n",
      "Epoch 17/30\n",
      "200/200 [==============================] - 4s 21ms/step - loss: 0.3314 - acc: 0.8852 - val_loss: 1.3613 - val_acc: 0.6750\n",
      "Epoch 18/30\n",
      "200/200 [==============================] - 4s 22ms/step - loss: 0.3062 - acc: 0.8861 - val_loss: 1.3003 - val_acc: 0.6680\n",
      "Epoch 19/30\n",
      "200/200 [==============================] - 4s 22ms/step - loss: 0.3039 - acc: 0.8919 - val_loss: 1.4624 - val_acc: 0.6420\n",
      "Epoch 20/30\n",
      "200/200 [==============================] - 4s 22ms/step - loss: 0.2893 - acc: 0.8999 - val_loss: 1.3757 - val_acc: 0.6540\n",
      "Epoch 21/30\n",
      "200/200 [==============================] - 4s 22ms/step - loss: 0.2651 - acc: 0.9041 - val_loss: 1.3027 - val_acc: 0.6860\n",
      "Epoch 22/30\n",
      "200/200 [==============================] - 4s 22ms/step - loss: 0.2767 - acc: 0.9019 - val_loss: 1.3571 - val_acc: 0.6690\n",
      "Epoch 23/30\n",
      "200/200 [==============================] - 4s 21ms/step - loss: 0.2615 - acc: 0.9086 - val_loss: 1.2169 - val_acc: 0.7070\n",
      "Epoch 24/30\n",
      "200/200 [==============================] - 4s 21ms/step - loss: 0.2499 - acc: 0.9090 - val_loss: 1.2626 - val_acc: 0.6950\n",
      "Epoch 25/30\n",
      "200/200 [==============================] - 4s 21ms/step - loss: 0.2336 - acc: 0.9149 - val_loss: 1.3223 - val_acc: 0.6870\n",
      "Epoch 26/30\n",
      "200/200 [==============================] - 4s 22ms/step - loss: 0.2289 - acc: 0.9174 - val_loss: 1.4279 - val_acc: 0.6890\n",
      "Epoch 27/30\n",
      "200/200 [==============================] - 4s 22ms/step - loss: 0.2268 - acc: 0.9188 - val_loss: 1.4650 - val_acc: 0.6420\n",
      "Epoch 28/30\n",
      "200/200 [==============================] - 4s 21ms/step - loss: 0.2263 - acc: 0.9171 - val_loss: 1.4005 - val_acc: 0.6960\n",
      "Epoch 29/30\n",
      "200/200 [==============================] - 4s 21ms/step - loss: 0.2085 - acc: 0.9269 - val_loss: 1.3651 - val_acc: 0.6860\n",
      "Epoch 30/30\n",
      "200/200 [==============================] - 4s 21ms/step - loss: 0.1968 - acc: 0.9282 - val_loss: 1.3444 - val_acc: 0.6830\n"
     ]
    }
   ],
   "source": [
    "input_shape = (dataset[\"train\"][0].shape[1], dataset[\"train\"][0].shape[2], 1)\n",
    "print(input_shape)\n",
    "model = get_model(input_shape)\n",
    "model.compile(optimizer = \"adam\", loss=\"sparse_categorical_crossentropy\", metrics=[\"acc\"])\n",
    "model.summary()\n",
    "history = model.fit(dataset[\"train\"][0], dataset[\"train\"][1],\n",
    "                    validation_data=dataset[\"validate\"],\n",
    "                    epochs=30,\n",
    "                    batch_size=40\n",
    "                    )\n"
   ]
  },
  {
   "cell_type": "code",
   "execution_count": 12,
   "id": "6b9d55a8",
   "metadata": {},
   "outputs": [
    {
     "data": {
      "image/png": "[encoded data removed]",
      "text/plain": [
       "<Figure size 432x288 with 1 Axes>"
      ]
     },
     "metadata": {
      "needs_background": "light"
     },
     "output_type": "display_data"
    },
    {
     "data": {
      "image/png": "[encoded data removed]",
      "text/plain": [
       "<Figure size 432x288 with 1 Axes>"
      ]
     },
     "metadata": {
      "needs_background": "light"
     },
     "output_type": "display_data"
    }
   ],
   "source": [
    "# EXPECTED BETTER, BUT STILL NICE\n",
    "plot_performance(history)"
   ]
  },
  {
   "cell_type": "code",
   "execution_count": 15,
   "id": "04d05394",
   "metadata": {},
   "outputs": [
    {
     "name": "stdout",
     "output_type": "stream",
     "text": [
      "50/50 [==============================] - 0s 7ms/step - loss: 1.4319 - acc: 0.6850\n"
     ]
    },
    {
     "data": {
      "text/plain": [
       "[1.4319361448287964, 0.6850000023841858]"
      ]
     },
     "execution_count": 15,
     "metadata": {},
     "output_type": "execute_result"
    }
   ],
   "source": [
    "# EVALUATION\n",
    "model.evaluate(\n",
    "    dataset[\"test\"][0], dataset[\"test\"][1], batch_size=20, verbose=1\n",
    ")"
   ]
  },
  {
   "cell_type": "code",
   "execution_count": null,
   "id": "b3f3266c",
   "metadata": {},
   "outputs": [],
   "source": []
  }
 ],
 "metadata": {
  "kernelspec": {
   "display_name": "Python 3 (ipykernel)",
   "language": "python",
   "name": "python3"
  },
  "language_info": {
   "codemirror_mode": {
    "name": "ipython",
    "version": 3
   },
   "file_extension": ".py",
   "mimetype": "text/x-python",
   "name": "python",
   "nbconvert_exporter": "python",
   "pygments_lexer": "ipython3",
   "version": "3.9.7"
  }
 },
 "nbformat": 4,
 "nbformat_minor": 5
}
