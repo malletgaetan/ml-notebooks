{
 "cells": [
  {
   "cell_type": "code",
   "execution_count": 7,
   "id": "5d26f662",
   "metadata": {},
   "outputs": [
    {
     "name": "stdout",
     "output_type": "stream",
     "text": [
      "Extracted features audio track 799 of 799.\n",
      "Extracted features audio track 100 of 100.\n",
      "Extracted features audio track 100 of 100.\n"
     ]
    }
   ],
   "source": [
    "import os\n",
    "import numpy as np\n",
    "import librosa\n",
    "import random\n",
    "\n",
    "# DATA PROCESSING\n",
    "DATASET_PATH = \"/home/gmallet/datasets/gtzan\"\n",
    "ROI_PATH = DATASET_PATH + \"/genres_original/\"\n",
    "\n",
    "TIME_SERIES_LENGTH = 128\n",
    "HOP_LENGTH = 512\n",
    "CATEGORIES = os.listdir(ROI_PATH)\n",
    "\n",
    "# AUDIO SAMPLING RATE\n",
    "sr = 22050\n",
    "SONG_DURATION = 29\n",
    "# TOTAL NB SAMPLE OF EACH SONG\n",
    "TOTAL_SAMPLES = SONG_DURATION * sr\n",
    "# NB SLICE PER SONG\n",
    "NB_SLICES = 10\n",
    "# HOW MANY SAMPLE IS NEEDED TO MAKE A SLICE\n",
    "SAMPLES_PER_SLICE = int(TOTAL_SAMPLES / NB_SLICES)\n",
    "\n",
    "def get_files(root_path, extension):\n",
    "    files_paths = []\n",
    "    for root, _, files in os.walk(root_path, topdown=True):\n",
    "        files_paths += [os.path.join(root, file) for file in files if file.endswith(extension)]\n",
    "    return files_paths\n",
    "\n",
    "# USE ALL POSSIBLE SAMPLE PER SONG\n",
    "def extract_audio_features(files_paths):\n",
    "    labels = []\n",
    "    features = []\n",
    "    for i, file_path in enumerate(files_paths):\n",
    "        song, sr = librosa.load(file_path, duration=SONG_DURATION)\n",
    "        genre = file_path.split(\"/\")[-2]\n",
    "        index = CATEGORIES.index(genre)\n",
    "        for s in range(NB_SLICES):\n",
    "            start_sample = SAMPLES_PER_SLICE * s\n",
    "            end_sample = start_sample + SAMPLES_PER_SLICE\n",
    "            mfcc = librosa.feature.mfcc(y=song[start_sample:end_sample], sr=sr, n_mfcc=13)\n",
    "            mfcc = mfcc.T\n",
    "            labels.append(index)\n",
    "            features.append(mfcc.tolist())\n",
    "        print(\n",
    "            \"\\rExtracted features audio track %i of %i.\"\n",
    "            % (i+1, len(files_paths)), end=''\n",
    "        )\n",
    "    print()\n",
    "    return (np.array(features), np.array(labels))\n",
    "\n",
    "\n",
    "# USE ONLY ONE SAMPLE PER SONG, AND STILL MFCC ON THE WHOLE SONG SO REALLY BAD\n",
    "def bad_extract_audio_features(files_paths):\n",
    "    nb_files = len(files_paths)\n",
    "    \n",
    "    features = np.zeros(\n",
    "        (nb_files, TIME_SERIES_LENGTH, 13), dtype=np.float64\n",
    "    )\n",
    "    \n",
    "    \n",
    "    labels = np.zeros(\n",
    "        (nb_files, 1), dtype=np.int32\n",
    "     )\n",
    "    \n",
    "    for i, file in enumerate(files_paths):\n",
    "        y, sr = librosa.load(file)\n",
    "        mfcc = librosa.feature.mfcc(\n",
    "            y=y, sr=sr, hop_length=HOP_LENGTH, n_mfcc=13\n",
    "        )\n",
    "            \n",
    "        genre = file.split(\"/\")[-2]\n",
    "        index = CATEGORIES.index(genre)\n",
    "        \n",
    "        labels[i][0] = index \n",
    "        features[i, :] = mfcc.T[0:TIME_SERIES_LENGTH, :]\n",
    "        print(\n",
    "            \"\\rExtracted features audio track %i of %i.\"\n",
    "            % (i+1, nb_files), end=''\n",
    "        )\n",
    "    print()\n",
    "    return (features, labels)\n",
    "\n",
    "\n",
    "\n",
    "def load_data(files_path):\n",
    "    files_paths = get_files(files_path, \"wav\")\n",
    "    random.shuffle(files_paths)\n",
    "    a, b = int(len(files_paths) * 0.8), int(len(files_paths) * 0.9)\n",
    "    train_fp, val_fp, test_fp = files_paths[:a], files_paths[a:b], files_paths[b:]\n",
    "\n",
    "    return {\n",
    "        \"train\": extract_audio_features(train_fp),\n",
    "        \"validate\": extract_audio_features(val_fp),\n",
    "        \"test\": extract_audio_features(test_fp),\n",
    "    }\n",
    "\n",
    "dataset = load_data(ROI_PATH)"
   ]
  },
  {
   "cell_type": "code",
   "execution_count": 11,
   "id": "f8a4fd15",
   "metadata": {},
   "outputs": [
    {
     "data": {
      "text/plain": [
       "(7990, 125, 13)"
      ]
     },
     "execution_count": 11,
     "metadata": {},
     "output_type": "execute_result"
    }
   ],
   "source": [
    "dataset[\"train\"][0].shape"
   ]
  },
  {
   "cell_type": "code",
   "execution_count": 12,
   "id": "14d8e6b1",
   "metadata": {},
   "outputs": [
    {
     "name": "stderr",
     "output_type": "stream",
     "text": [
      "2022-03-30 22:47:15.882634: W tensorflow/stream_executor/platform/default/dso_loader.cc:64] Could not load dynamic library 'libcudart.so.11.0'; dlerror: libcudart.so.11.0: cannot open shared object file: No such file or directory\n",
      "2022-03-30 22:47:15.882655: I tensorflow/stream_executor/cuda/cudart_stub.cc:29] Ignore above cudart dlerror if you do not have a GPU set up on your machine.\n"
     ]
    }
   ],
   "source": [
    "# MODEL\n",
    "from keras.models import Sequential\n",
    "from keras.layers.recurrent import LSTM\n",
    "from keras.layers import Dense\n",
    "from keras.losses import SparseCategoricalCrossentropy\n",
    "\n",
    "# USING LSTM\n",
    "def get_model(input_shape, output_size):\n",
    "    model = Sequential()\n",
    "    model.add(LSTM(units=128, dropout=0.05, recurrent_dropout=0.35, return_sequences=True, input_shape=input_shape))\n",
    "    model.add(LSTM(units=32,  dropout=0.05, recurrent_dropout=0.35, return_sequences=False))\n",
    "    model.add(Dense(units=output_size, activation=\"softmax\"))\n",
    "\n",
    "    model.compile(loss=SparseCategoricalCrossentropy(from_logits=True), optimizer=\"adam\", metrics=[\"accuracy\"])\n",
    "    model.summary()\n",
    "    return model"
   ]
  },
  {
   "cell_type": "code",
   "execution_count": 13,
   "id": "d79af457",
   "metadata": {},
   "outputs": [],
   "source": [
    "# TRAINING\n",
    "batch_size = 30\n",
    "num_epochs = 20\n",
    "\n",
    "def train(dataset):\n",
    "    input_shape = (dataset[\"test\"][0].shape[1], dataset[\"test\"][0].shape[2])\n",
    "    model = get_model(input_shape, 10)\n",
    "    return model, model.fit(\n",
    "        dataset[\"train\"][0],\n",
    "        dataset[\"train\"][1],\n",
    "        validation_data=dataset[\"validate\"],\n",
    "        batch_size=batch_size,\n",
    "        epochs=num_epochs,\n",
    "        shuffle=True\n",
    "    )"
   ]
  },
  {
   "cell_type": "code",
   "execution_count": 14,
   "id": "58c631da",
   "metadata": {},
   "outputs": [],
   "source": [
    "# VISUALIZATION\n",
    "import matplotlib.pyplot as plt\n",
    "\n",
    "def show_history(history):\n",
    "    acc = history.history['accuracy']\n",
    "    val_acc = history.history['val_accuracy']\n",
    "\n",
    "    loss = history.history['loss']\n",
    "    val_loss = history.history['val_loss']\n",
    "\n",
    "    epochs_range = range(num_epochs)\n",
    "\n",
    "    plt.figure(figsize=(8, 8))\n",
    "    plt.subplot(1, 2, 1)\n",
    "    plt.plot(epochs_range, acc, label='Training Accuracy')\n",
    "    plt.plot(epochs_range, val_acc, label='Validation Accuracy')\n",
    "    plt.legend(loc='lower right')\n",
    "    plt.title('Training and Validation Accuracy')\n",
    "\n",
    "    plt.subplot(1, 2, 2)\n",
    "    plt.plot(epochs_range, loss, label='Training Loss')\n",
    "    plt.plot(epochs_range, val_loss, label='Validation Loss')\n",
    "    plt.legend(loc='upper right')\n",
    "    plt.title('Training and Validation Loss')\n",
    "    plt.show()\n"
   ]
  },
  {
   "cell_type": "code",
   "execution_count": 15,
   "id": "34f7146c",
   "metadata": {},
   "outputs": [
    {
     "name": "stdout",
     "output_type": "stream",
     "text": [
      "Model: \"sequential\"\n",
      "_________________________________________________________________\n",
      " Layer (type)                Output Shape              Param #   \n",
      "=================================================================\n",
      " lstm (LSTM)                 (None, 125, 128)          72704     \n",
      "                                                                 \n",
      " lstm_1 (LSTM)               (None, 32)                20608     \n"
     ]
    },
    {
     "name": "stderr",
     "output_type": "stream",
     "text": [
      "2022-03-30 22:47:26.091308: W tensorflow/stream_executor/platform/default/dso_loader.cc:64] Could not load dynamic library 'libcuda.so.1'; dlerror: libcuda.so.1: cannot open shared object file: No such file or directory\n",
      "2022-03-30 22:47:26.091332: W tensorflow/stream_executor/cuda/cuda_driver.cc:269] failed call to cuInit: UNKNOWN ERROR (303)\n",
      "2022-03-30 22:47:26.091347: I tensorflow/stream_executor/cuda/cuda_diagnostics.cc:156] kernel driver does not appear to be running on this host (station): /proc/driver/nvidia/version does not exist\n",
      "2022-03-30 22:47:26.091598: I tensorflow/core/platform/cpu_feature_guard.cc:151] This TensorFlow binary is optimized with oneAPI Deep Neural Network Library (oneDNN) to use the following CPU instructions in performance-critical operations:  AVX2 FMA\n",
      "To enable them in other operations, rebuild TensorFlow with the appropriate compiler flags.\n"
     ]
    },
    {
     "name": "stdout",
     "output_type": "stream",
     "text": [
      "                                                                 \n",
      " dense (Dense)               (None, 10)                330       \n",
      "                                                                 \n",
      "=================================================================\n",
      "Total params: 93,642\n",
      "Trainable params: 93,642\n",
      "Non-trainable params: 0\n",
      "_________________________________________________________________\n",
      "Epoch 1/20\n"
     ]
    },
    {
     "name": "stderr",
     "output_type": "stream",
     "text": [
      "/home/gmallet/.local/lib/python3.9/site-packages/tensorflow/python/util/dispatch.py:1082: UserWarning: \"`sparse_categorical_crossentropy` received `from_logits=True`, but the `output` argument was produced by a sigmoid or softmax activation and thus does not represent logits. Was this intended?\"\n",
      "  return dispatch_target(*args, **kwargs)\n"
     ]
    },
    {
     "name": "stdout",
     "output_type": "stream",
     "text": [
      "267/267 [==============================] - 56s 193ms/step - loss: 1.7131 - accuracy: 0.3974 - val_loss: 1.7429 - val_accuracy: 0.3480\n",
      "Epoch 2/20\n",
      "267/267 [==============================] - 51s 192ms/step - loss: 1.4858 - accuracy: 0.4603 - val_loss: 1.6079 - val_accuracy: 0.4470\n",
      "Epoch 3/20\n",
      "267/267 [==============================] - 51s 191ms/step - loss: 1.3893 - accuracy: 0.4981 - val_loss: 1.5198 - val_accuracy: 0.4260\n",
      "Epoch 4/20\n",
      "267/267 [==============================] - 51s 192ms/step - loss: 1.2941 - accuracy: 0.5473 - val_loss: 1.4133 - val_accuracy: 0.4710\n",
      "Epoch 5/20\n",
      "267/267 [==============================] - 51s 190ms/step - loss: 1.1957 - accuracy: 0.5802 - val_loss: 1.3866 - val_accuracy: 0.5000\n",
      "Epoch 6/20\n",
      "267/267 [==============================] - 51s 191ms/step - loss: 1.1662 - accuracy: 0.5902 - val_loss: 1.3561 - val_accuracy: 0.4930\n",
      "Epoch 7/20\n",
      "267/267 [==============================] - 51s 192ms/step - loss: 1.0509 - accuracy: 0.6312 - val_loss: 1.3414 - val_accuracy: 0.5280\n",
      "Epoch 8/20\n",
      "267/267 [==============================] - 51s 192ms/step - loss: 0.9784 - accuracy: 0.6547 - val_loss: 1.3226 - val_accuracy: 0.5360\n",
      "Epoch 9/20\n",
      "267/267 [==============================] - 51s 191ms/step - loss: 0.9250 - accuracy: 0.6797 - val_loss: 1.2533 - val_accuracy: 0.5620\n",
      "Epoch 10/20\n",
      "267/267 [==============================] - 51s 193ms/step - loss: 0.8796 - accuracy: 0.6952 - val_loss: 1.2410 - val_accuracy: 0.5790\n",
      "Epoch 11/20\n",
      "267/267 [==============================] - 52s 193ms/step - loss: 0.7974 - accuracy: 0.7275 - val_loss: 1.2079 - val_accuracy: 0.5910\n",
      "Epoch 12/20\n",
      "267/267 [==============================] - 51s 193ms/step - loss: 0.7761 - accuracy: 0.7369 - val_loss: 1.3645 - val_accuracy: 0.5440\n",
      "Epoch 13/20\n",
      "267/267 [==============================] - 51s 191ms/step - loss: 0.7315 - accuracy: 0.7512 - val_loss: 1.2870 - val_accuracy: 0.5820\n",
      "Epoch 14/20\n",
      "267/267 [==============================] - 51s 192ms/step - loss: 0.7051 - accuracy: 0.7612 - val_loss: 1.2080 - val_accuracy: 0.5960\n",
      "Epoch 15/20\n",
      "267/267 [==============================] - 51s 193ms/step - loss: 0.6729 - accuracy: 0.7765 - val_loss: 1.2740 - val_accuracy: 0.5990\n",
      "Epoch 16/20\n",
      "267/267 [==============================] - 51s 190ms/step - loss: 0.6306 - accuracy: 0.7901 - val_loss: 1.1630 - val_accuracy: 0.6280\n",
      "Epoch 17/20\n",
      "267/267 [==============================] - 51s 191ms/step - loss: 0.6316 - accuracy: 0.7917 - val_loss: 1.1860 - val_accuracy: 0.6340\n",
      "Epoch 18/20\n",
      "267/267 [==============================] - 51s 190ms/step - loss: 0.5685 - accuracy: 0.8081 - val_loss: 1.3315 - val_accuracy: 0.5950\n",
      "Epoch 19/20\n",
      "267/267 [==============================] - 51s 191ms/step - loss: 0.5506 - accuracy: 0.8169 - val_loss: 1.2696 - val_accuracy: 0.6010\n",
      "Epoch 20/20\n",
      "267/267 [==============================] - 51s 190ms/step - loss: 0.5426 - accuracy: 0.8178 - val_loss: 1.2532 - val_accuracy: 0.6160\n"
     ]
    }
   ],
   "source": [
    "model, history = train(dataset)"
   ]
  },
  {
   "cell_type": "code",
   "execution_count": 16,
   "id": "bba7e8d8",
   "metadata": {},
   "outputs": [
    {
     "data": {
      "image/png": "[encoded data removed]",
      "text/plain": [
       "<Figure size 576x576 with 2 Axes>"
      ]
     },
     "metadata": {
      "needs_background": "light"
     },
     "output_type": "display_data"
    }
   ],
   "source": [
    "show_history(history)\n",
    "# WE CAN SEE HERE THAT OUR MODEL IS NOW (THAT WE EXTRACT CORRECTLY DATA FROM AUDIO) LEARNING CORRECTLY, EVEN\n",
    "# THO THE MODEL TENDS TO OVERFIT QUICKLY, IT STILL DON'T, SO COULD TRY ADDING MORE EPOCH, SHOULD PROBABLY MAKE\n",
    "# BATCH SIZE A LITTLE LESS SO IT TRAIN FASTER THO, THIS ONE TRAINING TOOK ALMOST 10MIN"
   ]
  },
  {
   "cell_type": "code",
   "execution_count": 17,
   "id": "2fde2254",
   "metadata": {},
   "outputs": [
    {
     "name": "stdout",
     "output_type": "stream",
     "text": [
      "34/34 [==============================] - 1s 25ms/step - loss: 1.1886 - accuracy: 0.6540\n"
     ]
    },
    {
     "data": {
      "text/plain": [
       "[1.188636302947998, 0.6539999842643738]"
      ]
     },
     "execution_count": 17,
     "metadata": {},
     "output_type": "execute_result"
    }
   ],
   "source": [
    "# EVALUATION\n",
    "model.evaluate(\n",
    "    dataset[\"test\"][0], dataset[\"test\"][1], batch_size=batch_size, verbose=1\n",
    ")"
   ]
  },
  {
   "cell_type": "code",
   "execution_count": null,
   "id": "3ea0a2f6",
   "metadata": {},
   "outputs": [],
   "source": []
  }
 ],
 "metadata": {
  "kernelspec": {
   "display_name": "Python 3 (ipykernel)",
   "language": "python",
   "name": "python3"
  },
  "language_info": {
   "codemirror_mode": {
    "name": "ipython",
    "version": 3
   },
   "file_extension": ".py",
   "mimetype": "text/x-python",
   "name": "python",
   "nbconvert_exporter": "python",
   "pygments_lexer": "ipython3",
   "version": "3.9.7"
  }
 },
 "nbformat": 4,
 "nbformat_minor": 5
}
