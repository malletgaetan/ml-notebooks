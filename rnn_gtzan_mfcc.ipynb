{
 "cells": [
  {
   "cell_type": "code",
   "execution_count": 12,
   "id": "7f204a32",
   "metadata": {},
   "outputs": [
    {
     "data": {
      "text/html": [
       "<div>\n",
       "<style scoped>\n",
       "    .dataframe tbody tr th:only-of-type {\n",
       "        vertical-align: middle;\n",
       "    }\n",
       "\n",
       "    .dataframe tbody tr th {\n",
       "        vertical-align: top;\n",
       "    }\n",
       "\n",
       "    .dataframe thead th {\n",
       "        text-align: right;\n",
       "    }\n",
       "</style>\n",
       "<table border=\"1\" class=\"dataframe\">\n",
       "  <thead>\n",
       "    <tr style=\"text-align: right;\">\n",
       "      <th></th>\n",
       "      <th>filename</th>\n",
       "      <th>length</th>\n",
       "      <th>chroma_stft_mean</th>\n",
       "      <th>chroma_stft_var</th>\n",
       "      <th>rms_mean</th>\n",
       "      <th>rms_var</th>\n",
       "      <th>spectral_centroid_mean</th>\n",
       "      <th>spectral_centroid_var</th>\n",
       "      <th>spectral_bandwidth_mean</th>\n",
       "      <th>spectral_bandwidth_var</th>\n",
       "      <th>...</th>\n",
       "      <th>mfcc16_var</th>\n",
       "      <th>mfcc17_mean</th>\n",
       "      <th>mfcc17_var</th>\n",
       "      <th>mfcc18_mean</th>\n",
       "      <th>mfcc18_var</th>\n",
       "      <th>mfcc19_mean</th>\n",
       "      <th>mfcc19_var</th>\n",
       "      <th>mfcc20_mean</th>\n",
       "      <th>mfcc20_var</th>\n",
       "      <th>label</th>\n",
       "    </tr>\n",
       "  </thead>\n",
       "  <tbody>\n",
       "    <tr>\n",
       "      <th>0</th>\n",
       "      <td>blues.00000.0.wav</td>\n",
       "      <td>66149</td>\n",
       "      <td>0.335406</td>\n",
       "      <td>0.091048</td>\n",
       "      <td>0.130405</td>\n",
       "      <td>0.003521</td>\n",
       "      <td>1773.065032</td>\n",
       "      <td>167541.630869</td>\n",
       "      <td>1972.744388</td>\n",
       "      <td>117335.771563</td>\n",
       "      <td>...</td>\n",
       "      <td>39.687145</td>\n",
       "      <td>-3.241280</td>\n",
       "      <td>36.488243</td>\n",
       "      <td>0.722209</td>\n",
       "      <td>38.099152</td>\n",
       "      <td>-5.050335</td>\n",
       "      <td>33.618073</td>\n",
       "      <td>-0.243027</td>\n",
       "      <td>43.771767</td>\n",
       "      <td>blues</td>\n",
       "    </tr>\n",
       "    <tr>\n",
       "      <th>1</th>\n",
       "      <td>blues.00000.1.wav</td>\n",
       "      <td>66149</td>\n",
       "      <td>0.343065</td>\n",
       "      <td>0.086147</td>\n",
       "      <td>0.112699</td>\n",
       "      <td>0.001450</td>\n",
       "      <td>1816.693777</td>\n",
       "      <td>90525.690866</td>\n",
       "      <td>2010.051501</td>\n",
       "      <td>65671.875673</td>\n",
       "      <td>...</td>\n",
       "      <td>64.748276</td>\n",
       "      <td>-6.055294</td>\n",
       "      <td>40.677654</td>\n",
       "      <td>0.159015</td>\n",
       "      <td>51.264091</td>\n",
       "      <td>-2.837699</td>\n",
       "      <td>97.030830</td>\n",
       "      <td>5.784063</td>\n",
       "      <td>59.943081</td>\n",
       "      <td>blues</td>\n",
       "    </tr>\n",
       "    <tr>\n",
       "      <th>2</th>\n",
       "      <td>blues.00000.2.wav</td>\n",
       "      <td>66149</td>\n",
       "      <td>0.346815</td>\n",
       "      <td>0.092243</td>\n",
       "      <td>0.132003</td>\n",
       "      <td>0.004620</td>\n",
       "      <td>1788.539719</td>\n",
       "      <td>111407.437613</td>\n",
       "      <td>2084.565132</td>\n",
       "      <td>75124.921716</td>\n",
       "      <td>...</td>\n",
       "      <td>67.336563</td>\n",
       "      <td>-1.768610</td>\n",
       "      <td>28.348579</td>\n",
       "      <td>2.378768</td>\n",
       "      <td>45.717648</td>\n",
       "      <td>-1.938424</td>\n",
       "      <td>53.050835</td>\n",
       "      <td>2.517375</td>\n",
       "      <td>33.105122</td>\n",
       "      <td>blues</td>\n",
       "    </tr>\n",
       "    <tr>\n",
       "      <th>3</th>\n",
       "      <td>blues.00000.3.wav</td>\n",
       "      <td>66149</td>\n",
       "      <td>0.363639</td>\n",
       "      <td>0.086856</td>\n",
       "      <td>0.132565</td>\n",
       "      <td>0.002448</td>\n",
       "      <td>1655.289045</td>\n",
       "      <td>111952.284517</td>\n",
       "      <td>1960.039988</td>\n",
       "      <td>82913.639269</td>\n",
       "      <td>...</td>\n",
       "      <td>47.739452</td>\n",
       "      <td>-3.841155</td>\n",
       "      <td>28.337118</td>\n",
       "      <td>1.218588</td>\n",
       "      <td>34.770935</td>\n",
       "      <td>-3.580352</td>\n",
       "      <td>50.836224</td>\n",
       "      <td>3.630866</td>\n",
       "      <td>32.023678</td>\n",
       "      <td>blues</td>\n",
       "    </tr>\n",
       "    <tr>\n",
       "      <th>4</th>\n",
       "      <td>blues.00000.4.wav</td>\n",
       "      <td>66149</td>\n",
       "      <td>0.335579</td>\n",
       "      <td>0.088129</td>\n",
       "      <td>0.143289</td>\n",
       "      <td>0.001701</td>\n",
       "      <td>1630.656199</td>\n",
       "      <td>79667.267654</td>\n",
       "      <td>1948.503884</td>\n",
       "      <td>60204.020268</td>\n",
       "      <td>...</td>\n",
       "      <td>30.336359</td>\n",
       "      <td>0.664582</td>\n",
       "      <td>45.880913</td>\n",
       "      <td>1.689446</td>\n",
       "      <td>51.363583</td>\n",
       "      <td>-3.392489</td>\n",
       "      <td>26.738789</td>\n",
       "      <td>0.536961</td>\n",
       "      <td>29.146694</td>\n",
       "      <td>blues</td>\n",
       "    </tr>\n",
       "  </tbody>\n",
       "</table>\n",
       "<p>5 rows × 60 columns</p>\n",
       "</div>"
      ],
      "text/plain": [
       "            filename  length  chroma_stft_mean  chroma_stft_var  rms_mean  \\\n",
       "0  blues.00000.0.wav   66149          0.335406         0.091048  0.130405   \n",
       "1  blues.00000.1.wav   66149          0.343065         0.086147  0.112699   \n",
       "2  blues.00000.2.wav   66149          0.346815         0.092243  0.132003   \n",
       "3  blues.00000.3.wav   66149          0.363639         0.086856  0.132565   \n",
       "4  blues.00000.4.wav   66149          0.335579         0.088129  0.143289   \n",
       "\n",
       "    rms_var  spectral_centroid_mean  spectral_centroid_var  \\\n",
       "0  0.003521             1773.065032          167541.630869   \n",
       "1  0.001450             1816.693777           90525.690866   \n",
       "2  0.004620             1788.539719          111407.437613   \n",
       "3  0.002448             1655.289045          111952.284517   \n",
       "4  0.001701             1630.656199           79667.267654   \n",
       "\n",
       "   spectral_bandwidth_mean  spectral_bandwidth_var  ...  mfcc16_var  \\\n",
       "0              1972.744388           117335.771563  ...   39.687145   \n",
       "1              2010.051501            65671.875673  ...   64.748276   \n",
       "2              2084.565132            75124.921716  ...   67.336563   \n",
       "3              1960.039988            82913.639269  ...   47.739452   \n",
       "4              1948.503884            60204.020268  ...   30.336359   \n",
       "\n",
       "   mfcc17_mean  mfcc17_var  mfcc18_mean  mfcc18_var  mfcc19_mean  mfcc19_var  \\\n",
       "0    -3.241280   36.488243     0.722209   38.099152    -5.050335   33.618073   \n",
       "1    -6.055294   40.677654     0.159015   51.264091    -2.837699   97.030830   \n",
       "2    -1.768610   28.348579     2.378768   45.717648    -1.938424   53.050835   \n",
       "3    -3.841155   28.337118     1.218588   34.770935    -3.580352   50.836224   \n",
       "4     0.664582   45.880913     1.689446   51.363583    -3.392489   26.738789   \n",
       "\n",
       "   mfcc20_mean  mfcc20_var  label  \n",
       "0    -0.243027   43.771767  blues  \n",
       "1     5.784063   59.943081  blues  \n",
       "2     2.517375   33.105122  blues  \n",
       "3     3.630866   32.023678  blues  \n",
       "4     0.536961   29.146694  blues  \n",
       "\n",
       "[5 rows x 60 columns]"
      ]
     },
     "execution_count": 12,
     "metadata": {},
     "output_type": "execute_result"
    }
   ],
   "source": [
    "# EXPLORE DATA\n",
    "import os\n",
    "import numpy as np\n",
    "import librosa\n",
    "import random\n",
    "import pandas as pd\n",
    "\n",
    "# DATA PROCESSING\n",
    "DATASET_PATH = \"/home/gmallet/datasets/gtzan\"\n",
    "ROI_PATH = DATASET_PATH + \"/genres_original/\"\n",
    "\n",
    "# TODO MAKE DCA USING THIS\n",
    "df = pd.read_csv(os.path.join(DATASET_PATH, \"features_3_sec.csv\"))\n",
    "df.head()"
   ]
  },
  {
   "cell_type": "code",
   "execution_count": 6,
   "id": "5d26f662",
   "metadata": {},
   "outputs": [
    {
     "name": "stdout",
     "output_type": "stream",
     "text": [
      "Extracted features audio track 799 of 799.\n",
      "Extracted features audio track 100 of 100.\n",
      "Extracted features audio track 100 of 100.\n"
     ]
    }
   ],
   "source": [
    "TIME_SERIES_LENGTH = 128\n",
    "HOP_LENGTH = 512\n",
    "CATEGORIES = os.listdir(ROI_PATH)\n",
    "\n",
    "# AUDIO SAMPLING RATE\n",
    "sr = 22050\n",
    "SONG_DURATION = 29\n",
    "# TOTAL NB SAMPLE OF EACH SONG\n",
    "TOTAL_SAMPLES = SONG_DURATION * sr\n",
    "# NB SLICE PER SONG\n",
    "NB_SLICES = 10\n",
    "# HOW MANY SAMPLE IS NEEDED TO MAKE A SLICE\n",
    "SAMPLES_PER_SLICE = int(TOTAL_SAMPLES / NB_SLICES)\n",
    "\n",
    "def get_files(root_path, extension):\n",
    "    files_paths = []\n",
    "    for root, _, files in os.walk(root_path, topdown=True):\n",
    "        files_paths += [os.path.join(root, file) for file in files if file.endswith(extension)]\n",
    "    return files_paths\n",
    "\n",
    "# USE ALL POSSIBLE SAMPLE PER SONG\n",
    "# DECIDED TO GO WITH MFCC TO EXTRACT FEATURES FROM SONG.\n",
    "# THE FIRST REASON I CHOOSE MFCC IS BECAUSE OF HIS POPULARITY, PRETTY MUCH EVERY AUDIO\n",
    "# CLASSIFICATION USE IT. THE SECOND IS BY FINDING HOW MFCC GLOBALLY WORKS, BY SCALING FREQUENCIES\n",
    "# TO MEL SCALE, WHICH 'SIMULATE' THE WAY HUMAN EARS WORKS USING A LOG SCALE SINCE FOR A HUMAN,\n",
    "# THE DIFFERENCE BTW 1KhZ and 2KhZ THAN BTW 4KhZ AND 5KhZ. THE MOST IMPORTANT FOR HUMAN EARS IS THE RATE OF\n",
    "# CHANGE, NOT THE ABSOLUTE DIFFERENCE BTW 2 FREQUENCIES.\n",
    "def extract_audio_features(files_paths):\n",
    "    labels = []\n",
    "    features = []\n",
    "    for i, file_path in enumerate(files_paths):\n",
    "        song, sr = librosa.load(file_path, duration=SONG_DURATION)\n",
    "        genre = file_path.split(\"/\")[-2]\n",
    "        index = CATEGORIES.index(genre)\n",
    "        for s in range(NB_SLICES):\n",
    "            start_sample = SAMPLES_PER_SLICE * s\n",
    "            end_sample = start_sample + SAMPLES_PER_SLICE\n",
    "            mfcc = librosa.feature.mfcc(y=song[start_sample:end_sample], sr=sr, n_mfcc=13)\n",
    "            mfcc = mfcc.T\n",
    "            labels.append(index)\n",
    "            features.append(mfcc.tolist())\n",
    "        print(\n",
    "            \"\\rExtracted features audio track %i of %i.\"\n",
    "            % (i+1, len(files_paths)), end=''\n",
    "        )\n",
    "    print()\n",
    "    return (np.array(features), np.array(labels))\n",
    "\n",
    "\n",
    "# USE ONLY ONE SAMPLE PER SONG, AND STILL MFCC ON THE WHOLE SONG SO REALLY BAD\n",
    "def bad_extract_audio_features(files_paths):\n",
    "    nb_files = len(files_paths)\n",
    "    \n",
    "    features = np.zeros(\n",
    "        (nb_files, TIME_SERIES_LENGTH, 13), dtype=np.float64\n",
    "    )\n",
    "    \n",
    "    \n",
    "    labels = np.zeros(\n",
    "        (nb_files, 1), dtype=np.int32\n",
    "     )\n",
    "    \n",
    "    for i, file in enumerate(files_paths):\n",
    "        y, sr = librosa.load(file)\n",
    "        mfcc = librosa.feature.mfcc(\n",
    "            y=y, sr=sr, hop_length=HOP_LENGTH, n_mfcc=13\n",
    "        )\n",
    "            \n",
    "        genre = file.split(\"/\")[-2]\n",
    "        index = CATEGORIES.index(genre)\n",
    "        \n",
    "        labels[i][0] = index \n",
    "        features[i, :] = mfcc.T[0:TIME_SERIES_LENGTH, :]\n",
    "        print(\n",
    "            \"\\rExtracted features audio track %i of %i.\"\n",
    "            % (i+1, nb_files), end=''\n",
    "        )\n",
    "    print()\n",
    "    return (features, labels)\n",
    "\n",
    "\n",
    "\n",
    "def load_data(files_path):\n",
    "    files_paths = get_files(files_path, \"wav\")\n",
    "    random.shuffle(files_paths)\n",
    "    a, b = int(len(files_paths) * 0.8), int(len(files_paths) * 0.9)\n",
    "    train_fp, val_fp, test_fp = files_paths[:a], files_paths[a:b], files_paths[b:]\n",
    "\n",
    "    # SHOULD SAVE THIS TO JSON OR SMTHG\n",
    "    return {\n",
    "        \"train\": extract_audio_features(train_fp),\n",
    "        \"validate\": extract_audio_features(val_fp),\n",
    "        \"test\": extract_audio_features(test_fp),\n",
    "    }\n",
    "\n",
    "dataset = load_data(ROI_PATH)"
   ]
  },
  {
   "cell_type": "code",
   "execution_count": 8,
   "id": "14d8e6b1",
   "metadata": {},
   "outputs": [],
   "source": [
    "# MODEL\n",
    "from keras.models import Sequential\n",
    "from keras.layers.recurrent import LSTM\n",
    "from keras.layers import Dense, TimeDistributed\n",
    "from keras.losses import SparseCategoricalCrossentropy\n",
    "\n",
    "# FIRST INTUITION THOUGH MUSIC IS SORT OF A TIME SERIES, AND RNNs ARE SUPPOSED TO BE MADE FOR THIS.\n",
    "# EVEN THO SAW A LOT OF CNN PERFORM A LOT BETTER THAN EVERY RNN ON THIS DATASET, DON'T HAVE MUCH EXPLANATION HERE,\n",
    "# STILL DECIDED TO WORK WITH RNN SINCE NEVER DONE ANY.\n",
    "# BIT OF SEARCH ON THE SUBJET THAUGH ME THAT RNNs WHEREN'T THE WAY TO GO UNLESS YOU REALLY KNOW WHAT YOUR DOING,\n",
    "# BECAUSE OF VANISHING GRADIENT PROBLEM, SO DECIDED TO GO FOR LSTM.\n",
    "def get_model(input_shape, output_size):\n",
    "    model = Sequential()\n",
    "    model.add(LSTM(units=128, dropout=0.05, recurrent_dropout=0.35, return_sequences=True, input_shape=input_shape))\n",
    "    model.add(LSTM(units=32,  dropout=0.05, recurrent_dropout=0.35, return_sequences=False))\n",
    "    # TRY WITH TimeDistributed LAYERS\n",
    "    model.add(Dense(units=output_size, activation=\"softmax\"))\n",
    "\n",
    "    model.compile(loss=SparseCategoricalCrossentropy(from_logits=True), optimizer=\"adam\", metrics=[\"accuracy\"])\n",
    "    model.summary()\n",
    "    return model"
   ]
  },
  {
   "cell_type": "code",
   "execution_count": 2,
   "id": "d79af457",
   "metadata": {},
   "outputs": [],
   "source": [
    "# TRAINING\n",
    "# I DON'T HAVE MUCH TO SAY ON THESE 2 PARAMETERS, TRYED DIFFERENTS ONE RANDOMLY, THESE WERE WORKING WELL, \n",
    "# EVEN THOUGH BATCH_SIZE IS MAYBE A BIT TOO BIG, SO TRAINING TAKE A LOT OF TIME.\n",
    "BATCH_SIZE = 60\n",
    "NUM_EPOCHS = 40\n",
    "\n",
    "def train(dataset):\n",
    "    input_shape = (dataset[\"test\"][0].shape[1], dataset[\"test\"][0].shape[2])\n",
    "    model = get_model(input_shape, 10)\n",
    "    return model, model.fit(\n",
    "        dataset[\"train\"][0],\n",
    "        dataset[\"train\"][1],\n",
    "        validation_data=dataset[\"validate\"],\n",
    "        batch_size=BATCH_SIZE,\n",
    "        epochs=NUM_EPOCHS,\n",
    "        shuffle=True\n",
    "    )"
   ]
  },
  {
   "cell_type": "code",
   "execution_count": 3,
   "id": "58c631da",
   "metadata": {},
   "outputs": [],
   "source": [
    "# VISUALIZATION\n",
    "import matplotlib.pyplot as plt\n",
    "\n",
    "def show_history(history):\n",
    "    acc = history.history['accuracy']\n",
    "    val_acc = history.history['val_accuracy']\n",
    "\n",
    "    loss = history.history['loss']\n",
    "    val_loss = history.history['val_loss']\n",
    "\n",
    "    epochs_range = range(NUM_EPOCHS)\n",
    "\n",
    "    plt.figure(figsize=(8, 8))\n",
    "    plt.subplot(1, 2, 1)\n",
    "    plt.plot(epochs_range, acc, label='Training Accuracy')\n",
    "    plt.plot(epochs_range, val_acc, label='Validation Accuracy')\n",
    "    plt.legend(loc='lower right')\n",
    "    plt.title('Training and Validation Accuracy')\n",
    "\n",
    "    plt.subplot(1, 2, 2)\n",
    "    plt.plot(epochs_range, loss, label='Training Loss')\n",
    "    plt.plot(epochs_range, val_loss, label='Validation Loss')\n",
    "    plt.legend(loc='upper right')\n",
    "    plt.title('Training and Validation Loss')\n",
    "    plt.show()\n"
   ]
  },
  {
   "cell_type": "code",
   "execution_count": 4,
   "id": "34f7146c",
   "metadata": {},
   "outputs": [
    {
     "ename": "NameError",
     "evalue": "name 'dataset' is not defined",
     "output_type": "error",
     "traceback": [
      "\u001b[0;31m---------------------------------------------------------------------------\u001b[0m",
      "\u001b[0;31mNameError\u001b[0m                                 Traceback (most recent call last)",
      "Input \u001b[0;32mIn [4]\u001b[0m, in \u001b[0;36m<cell line: 1>\u001b[0;34m()\u001b[0m\n\u001b[0;32m----> 1\u001b[0m model, history \u001b[38;5;241m=\u001b[39m train(\u001b[43mdataset\u001b[49m)\n",
      "\u001b[0;31mNameError\u001b[0m: name 'dataset' is not defined"
     ]
    }
   ],
   "source": [
    "model, history = train(dataset)"
   ]
  },
  {
   "cell_type": "code",
   "execution_count": 24,
   "id": "bba7e8d8",
   "metadata": {},
   "outputs": [
    {
     "data": {
      "image/png": "[encoded data removed]",
      "text/plain": [
       "<Figure size 576x576 with 2 Axes>"
      ]
     },
     "metadata": {
      "needs_background": "light"
     },
     "output_type": "display_data"
    }
   ],
   "source": [
    "show_history(history)\n",
    "# WE CAN SEE HERE THAT OUR MODEL LEARNING CORRECTLY.\n",
    "# IT FEELS LIKE MODEL IS OVERFITTING APPROXIMATELY FROM EPOCH 20."
   ]
  },
  {
   "cell_type": "code",
   "execution_count": 25,
   "id": "2fde2254",
   "metadata": {},
   "outputs": [
    {
     "name": "stdout",
     "output_type": "stream",
     "text": [
      "50/50 [==============================] - 2s 23ms/step - loss: 0.9697 - accuracy: 0.7020\n"
     ]
    },
    {
     "data": {
      "text/plain": [
       "[0.9697200655937195, 0.7020000219345093]"
      ]
     },
     "execution_count": 25,
     "metadata": {},
     "output_type": "execute_result"
    }
   ],
   "source": [
    "# EVALUATION\n",
    "model.evaluate(\n",
    "    dataset[\"test\"][0], dataset[\"test\"][1], batch_size=20, verbose=1\n",
    ")"
   ]
  },
  {
   "cell_type": "code",
   "execution_count": 26,
   "id": "854eb8f9",
   "metadata": {},
   "outputs": [
    {
     "name": "stdout",
     "output_type": "stream",
     "text": [
      "Model: \"sequential_4\"\n",
      "_________________________________________________________________\n",
      " Layer (type)                Output Shape              Param #   \n",
      "=================================================================\n",
      " lstm_8 (LSTM)               (None, 125, 128)          72704     \n",
      "                                                                 \n",
      " lstm_9 (LSTM)               (None, 32)                20608     \n",
      "                                                                 \n",
      " dense_4 (Dense)             (None, 10)                330       \n",
      "                                                                 \n",
      "=================================================================\n",
      "Total params: 93,642\n",
      "Trainable params: 93,642\n",
      "Non-trainable params: 0\n",
      "_________________________________________________________________\n",
      "Epoch 1/20\n",
      "134/134 [==============================] - 37s 236ms/step - loss: 1.7638 - accuracy: 0.3770 - val_loss: 1.5356 - val_accuracy: 0.4330\n",
      "Epoch 2/20\n",
      "134/134 [==============================] - 31s 230ms/step - loss: 1.4630 - accuracy: 0.4751 - val_loss: 1.5767 - val_accuracy: 0.4490\n",
      "Epoch 3/20\n",
      "134/134 [==============================] - 31s 232ms/step - loss: 1.3967 - accuracy: 0.4965 - val_loss: 1.4754 - val_accuracy: 0.4470\n",
      "Epoch 4/20\n",
      "134/134 [==============================] - 31s 231ms/step - loss: 1.3339 - accuracy: 0.5209 - val_loss: 1.3702 - val_accuracy: 0.5270\n",
      "Epoch 5/20\n",
      "134/134 [==============================] - 31s 231ms/step - loss: 1.2391 - accuracy: 0.5581 - val_loss: 1.3951 - val_accuracy: 0.4860\n",
      "Epoch 6/20\n",
      "134/134 [==============================] - 31s 229ms/step - loss: 1.1527 - accuracy: 0.5920 - val_loss: 1.3446 - val_accuracy: 0.4980\n",
      "Epoch 7/20\n",
      "134/134 [==============================] - 31s 230ms/step - loss: 1.1005 - accuracy: 0.6155 - val_loss: 1.2734 - val_accuracy: 0.5380\n",
      "Epoch 8/20\n",
      "134/134 [==============================] - 31s 230ms/step - loss: 1.0449 - accuracy: 0.6365 - val_loss: 1.2184 - val_accuracy: 0.5610\n",
      "Epoch 9/20\n",
      "134/134 [==============================] - 31s 230ms/step - loss: 0.9822 - accuracy: 0.6557 - val_loss: 1.2804 - val_accuracy: 0.5460\n",
      "Epoch 10/20\n",
      "134/134 [==============================] - 31s 230ms/step - loss: 0.9190 - accuracy: 0.6825 - val_loss: 1.2482 - val_accuracy: 0.5480\n",
      "Epoch 11/20\n",
      "134/134 [==============================] - 33s 245ms/step - loss: 0.8815 - accuracy: 0.6936 - val_loss: 1.2417 - val_accuracy: 0.5720\n",
      "Epoch 12/20\n",
      "134/134 [==============================] - 31s 233ms/step - loss: 0.8265 - accuracy: 0.7120 - val_loss: 1.1695 - val_accuracy: 0.6140\n",
      "Epoch 13/20\n",
      "134/134 [==============================] - 31s 230ms/step - loss: 0.7941 - accuracy: 0.7258 - val_loss: 1.1362 - val_accuracy: 0.6010\n",
      "Epoch 14/20\n",
      "134/134 [==============================] - 31s 230ms/step - loss: 0.7379 - accuracy: 0.7427 - val_loss: 1.1523 - val_accuracy: 0.6020\n",
      "Epoch 15/20\n",
      "134/134 [==============================] - 31s 230ms/step - loss: 0.7097 - accuracy: 0.7563 - val_loss: 1.1495 - val_accuracy: 0.6050\n",
      "Epoch 16/20\n",
      "134/134 [==============================] - 31s 231ms/step - loss: 0.6733 - accuracy: 0.7705 - val_loss: 1.1659 - val_accuracy: 0.6030\n",
      "Epoch 17/20\n",
      "134/134 [==============================] - 31s 234ms/step - loss: 0.6389 - accuracy: 0.7849 - val_loss: 1.1785 - val_accuracy: 0.6180\n",
      "Epoch 18/20\n",
      "134/134 [==============================] - 32s 240ms/step - loss: 0.6236 - accuracy: 0.7895 - val_loss: 1.1154 - val_accuracy: 0.6340\n",
      "Epoch 19/20\n",
      "134/134 [==============================] - 32s 238ms/step - loss: 0.5849 - accuracy: 0.7989 - val_loss: 1.1543 - val_accuracy: 0.6370\n",
      "Epoch 20/20\n",
      "134/134 [==============================] - 31s 231ms/step - loss: 0.5799 - accuracy: 0.8075 - val_loss: 1.1126 - val_accuracy: 0.6570\n"
     ]
    }
   ],
   "source": [
    "BATCH_SIZE = 60\n",
    "NUM_EPOCHS = 20\n",
    "model, history = train(dataset)"
   ]
  },
  {
   "cell_type": "code",
   "execution_count": 27,
   "id": "27aff93d",
   "metadata": {},
   "outputs": [
    {
     "data": {
      "image/png": "[encoded data removed]",
      "text/plain": [
       "<Figure size 576x576 with 2 Axes>"
      ]
     },
     "metadata": {
      "needs_background": "light"
     },
     "output_type": "display_data"
    }
   ],
   "source": [
    "show_history(history)\n",
    "# NICE! NO OVERFIT"
   ]
  },
  {
   "cell_type": "code",
   "execution_count": 28,
   "id": "ae107b3c",
   "metadata": {},
   "outputs": [
    {
     "name": "stdout",
     "output_type": "stream",
     "text": [
      "50/50 [==============================] - 1s 22ms/step - loss: 0.9579 - accuracy: 0.6930\n"
     ]
    },
    {
     "data": {
      "text/plain": [
       "[0.9579042792320251, 0.6930000185966492]"
      ]
     },
     "execution_count": 28,
     "metadata": {},
     "output_type": "execute_result"
    }
   ],
   "source": [
    "# EVALUATION\n",
    "model.evaluate(\n",
    "    dataset[\"test\"][0], dataset[\"test\"][1], batch_size=20, verbose=1\n",
    ")\n",
    "# MODEL IS PRETTY ACCURATE, THAT'S COOL"
   ]
  },
  {
   "cell_type": "code",
   "execution_count": 29,
   "id": "3ea0a2f6",
   "metadata": {},
   "outputs": [
    {
     "name": "stderr",
     "output_type": "stream",
     "text": [
      "2022-03-31 03:17:37.811749: W tensorflow/python/util/util.cc:368] Sets are not currently considered sequences, but this may change in the future, so consider avoiding using them.\n"
     ]
    },
    {
     "name": "stdout",
     "output_type": "stream",
     "text": [
      "INFO:tensorflow:Assets written to: ./models/rnn_gtzan_mfcc/assets\n"
     ]
    },
    {
     "name": "stderr",
     "output_type": "stream",
     "text": [
      "WARNING:absl:<keras.layers.recurrent.LSTM object at 0x7f35107a3730> has the same name 'LSTM' as a built-in Keras object. Consider renaming <class 'keras.layers.recurrent.LSTM'> to avoid naming conflicts when loading with `tf.keras.models.load_model`. If renaming is not possible, pass the object in the `custom_objects` parameter of the load function.\n",
      "WARNING:absl:<keras.layers.recurrent.LSTM object at 0x7f3564297820> has the same name 'LSTM' as a built-in Keras object. Consider renaming <class 'keras.layers.recurrent.LSTM'> to avoid naming conflicts when loading with `tf.keras.models.load_model`. If renaming is not possible, pass the object in the `custom_objects` parameter of the load function.\n",
      "WARNING:absl:<keras.layers.recurrent.LSTMCell object at 0x7f35180ef2e0> has the same name 'LSTMCell' as a built-in Keras object. Consider renaming <class 'keras.layers.recurrent.LSTMCell'> to avoid naming conflicts when loading with `tf.keras.models.load_model`. If renaming is not possible, pass the object in the `custom_objects` parameter of the load function.\n",
      "WARNING:absl:<keras.layers.recurrent.LSTMCell object at 0x7f35105dbbb0> has the same name 'LSTMCell' as a built-in Keras object. Consider renaming <class 'keras.layers.recurrent.LSTMCell'> to avoid naming conflicts when loading with `tf.keras.models.load_model`. If renaming is not possible, pass the object in the `custom_objects` parameter of the load function.\n"
     ]
    }
   ],
   "source": [
    "# SAVING MODEL\n",
    "model.save(\"./models/rnn_gtzan_mfcc\")"
   ]
  },
  {
   "cell_type": "code",
   "execution_count": null,
   "id": "b978d79c",
   "metadata": {},
   "outputs": [],
   "source": []
  }
 ],
 "metadata": {
  "kernelspec": {
   "display_name": "Python 3 (ipykernel)",
   "language": "python",
   "name": "python3"
  },
  "language_info": {
   "codemirror_mode": {
    "name": "ipython",
    "version": 3
   },
   "file_extension": ".py",
   "mimetype": "text/x-python",
   "name": "python",
   "nbconvert_exporter": "python",
   "pygments_lexer": "ipython3",
   "version": "3.9.7"
  }
 },
 "nbformat": 4,
 "nbformat_minor": 5
}
